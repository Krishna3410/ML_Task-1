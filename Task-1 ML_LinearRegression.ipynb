{
 "cells": [
  {
   "cell_type": "code",
   "execution_count": 1,
   "id": "96c19cc1",
   "metadata": {},
   "outputs": [],
   "source": [
    "import numpy as np\n",
    "import matplotlib.pyplot as plt\n",
    "import pandas as pd"
   ]
  },
  {
   "cell_type": "code",
   "execution_count": 2,
   "id": "a8ac1a87",
   "metadata": {},
   "outputs": [
    {
     "name": "stdout",
     "output_type": "stream",
     "text": [
      "<class 'pandas.core.frame.DataFrame'>\n",
      "RangeIndex: 3910 entries, 0 to 3909\n",
      "Data columns (total 16 columns):\n",
      " #   Column            Non-Null Count  Dtype  \n",
      "---  ------            --------------  -----  \n",
      " 0   house_type        3910 non-null   object \n",
      " 1   house_size        3910 non-null   object \n",
      " 2   location          3910 non-null   object \n",
      " 3   city              3910 non-null   object \n",
      " 4   latitude          3910 non-null   float64\n",
      " 5   longitude         3910 non-null   float64\n",
      " 6   price             3910 non-null   int64  \n",
      " 7   currency          3910 non-null   object \n",
      " 8   numBathrooms      3893 non-null   float64\n",
      " 9   numBalconies      1821 non-null   float64\n",
      " 10  isNegotiable      526 non-null    object \n",
      " 11  priceSqFt         0 non-null      float64\n",
      " 12  verificationDate  3910 non-null   object \n",
      " 13  description       3442 non-null   object \n",
      " 14  SecurityDeposit   3910 non-null   object \n",
      " 15  Status            3910 non-null   object \n",
      "dtypes: float64(5), int64(1), object(10)\n",
      "memory usage: 488.9+ KB\n"
     ]
    },
    {
     "data": {
      "text/html": [
       "<div>\n",
       "<style scoped>\n",
       "    .dataframe tbody tr th:only-of-type {\n",
       "        vertical-align: middle;\n",
       "    }\n",
       "\n",
       "    .dataframe tbody tr th {\n",
       "        vertical-align: top;\n",
       "    }\n",
       "\n",
       "    .dataframe thead th {\n",
       "        text-align: right;\n",
       "    }\n",
       "</style>\n",
       "<table border=\"1\" class=\"dataframe\">\n",
       "  <thead>\n",
       "    <tr style=\"text-align: right;\">\n",
       "      <th></th>\n",
       "      <th>house_type</th>\n",
       "      <th>house_size</th>\n",
       "      <th>location</th>\n",
       "      <th>city</th>\n",
       "      <th>latitude</th>\n",
       "      <th>longitude</th>\n",
       "      <th>price</th>\n",
       "      <th>currency</th>\n",
       "      <th>numBathrooms</th>\n",
       "      <th>numBalconies</th>\n",
       "      <th>isNegotiable</th>\n",
       "      <th>priceSqFt</th>\n",
       "      <th>verificationDate</th>\n",
       "      <th>description</th>\n",
       "      <th>SecurityDeposit</th>\n",
       "      <th>Status</th>\n",
       "    </tr>\n",
       "  </thead>\n",
       "  <tbody>\n",
       "    <tr>\n",
       "      <th>0</th>\n",
       "      <td>2 BHK Apartment</td>\n",
       "      <td>906 sq ft</td>\n",
       "      <td>Lohegaon</td>\n",
       "      <td>Pune</td>\n",
       "      <td>18.605820</td>\n",
       "      <td>73.912407</td>\n",
       "      <td>12000</td>\n",
       "      <td>INR</td>\n",
       "      <td>2.0</td>\n",
       "      <td>NaN</td>\n",
       "      <td>NaN</td>\n",
       "      <td>NaN</td>\n",
       "      <td>Posted 3 years ago</td>\n",
       "      <td>A spacious 2 bhk multistorey apartment is avai...</td>\n",
       "      <td>No Deposit</td>\n",
       "      <td>Unfurnished</td>\n",
       "    </tr>\n",
       "    <tr>\n",
       "      <th>1</th>\n",
       "      <td>1 BHK Apartment</td>\n",
       "      <td>650 sq ft</td>\n",
       "      <td>Anand Nagar</td>\n",
       "      <td>Pune</td>\n",
       "      <td>18.474377</td>\n",
       "      <td>73.820549</td>\n",
       "      <td>11000</td>\n",
       "      <td>INR</td>\n",
       "      <td>1.0</td>\n",
       "      <td>NaN</td>\n",
       "      <td>NaN</td>\n",
       "      <td>NaN</td>\n",
       "      <td>Posted 2 years ago</td>\n",
       "      <td>It has a built-up area of 650 sqft and is avai...</td>\n",
       "      <td>No Deposit</td>\n",
       "      <td>Semi-Furnished</td>\n",
       "    </tr>\n",
       "    <tr>\n",
       "      <th>2</th>\n",
       "      <td>1 RK Studio Apartment</td>\n",
       "      <td>350 sq ft</td>\n",
       "      <td>Wagholi</td>\n",
       "      <td>Pune</td>\n",
       "      <td>18.580336</td>\n",
       "      <td>73.980507</td>\n",
       "      <td>4500</td>\n",
       "      <td>INR</td>\n",
       "      <td>1.0</td>\n",
       "      <td>NaN</td>\n",
       "      <td>NaN</td>\n",
       "      <td>NaN</td>\n",
       "      <td>Posted 2 years ago</td>\n",
       "      <td>This spacious 1 rk independent house is availa...</td>\n",
       "      <td>No Deposit</td>\n",
       "      <td>Unfurnished</td>\n",
       "    </tr>\n",
       "    <tr>\n",
       "      <th>3</th>\n",
       "      <td>3 BHK Apartment</td>\n",
       "      <td>1,500 sq ft</td>\n",
       "      <td>Sangamvadi</td>\n",
       "      <td>Pune</td>\n",
       "      <td>18.541786</td>\n",
       "      <td>73.882454</td>\n",
       "      <td>35000</td>\n",
       "      <td>INR</td>\n",
       "      <td>2.0</td>\n",
       "      <td>NaN</td>\n",
       "      <td>NaN</td>\n",
       "      <td>NaN</td>\n",
       "      <td>Posted 3 years ago</td>\n",
       "      <td>Furnishings include 1 tv, 1 refrigerator, 1 so...</td>\n",
       "      <td>No Deposit</td>\n",
       "      <td>Furnished</td>\n",
       "    </tr>\n",
       "    <tr>\n",
       "      <th>4</th>\n",
       "      <td>5 BHK Independent House</td>\n",
       "      <td>5,000 sq ft</td>\n",
       "      <td>Wadgaon Sheri</td>\n",
       "      <td>Pune</td>\n",
       "      <td>18.560164</td>\n",
       "      <td>73.924927</td>\n",
       "      <td>110000</td>\n",
       "      <td>INR</td>\n",
       "      <td>5.0</td>\n",
       "      <td>NaN</td>\n",
       "      <td>NaN</td>\n",
       "      <td>NaN</td>\n",
       "      <td>Posted 3 years ago</td>\n",
       "      <td>Itâs a 5 bhk independent house situated in W...</td>\n",
       "      <td>No Deposit</td>\n",
       "      <td>Unfurnished</td>\n",
       "    </tr>\n",
       "  </tbody>\n",
       "</table>\n",
       "</div>"
      ],
      "text/plain": [
       "                 house_type   house_size       location  city   latitude  \\\n",
       "0          2 BHK Apartment     906 sq ft       Lohegaon  Pune  18.605820   \n",
       "1          1 BHK Apartment     650 sq ft    Anand Nagar  Pune  18.474377   \n",
       "2    1 RK Studio Apartment     350 sq ft        Wagholi  Pune  18.580336   \n",
       "3          3 BHK Apartment   1,500 sq ft     Sangamvadi  Pune  18.541786   \n",
       "4  5 BHK Independent House   5,000 sq ft  Wadgaon Sheri  Pune  18.560164   \n",
       "\n",
       "   longitude   price currency  numBathrooms  numBalconies isNegotiable  \\\n",
       "0  73.912407   12000      INR           2.0           NaN          NaN   \n",
       "1  73.820549   11000      INR           1.0           NaN          NaN   \n",
       "2  73.980507    4500      INR           1.0           NaN          NaN   \n",
       "3  73.882454   35000      INR           2.0           NaN          NaN   \n",
       "4  73.924927  110000      INR           5.0           NaN          NaN   \n",
       "\n",
       "   priceSqFt    verificationDate  \\\n",
       "0        NaN  Posted 3 years ago   \n",
       "1        NaN  Posted 2 years ago   \n",
       "2        NaN  Posted 2 years ago   \n",
       "3        NaN  Posted 3 years ago   \n",
       "4        NaN  Posted 3 years ago   \n",
       "\n",
       "                                         description SecurityDeposit  \\\n",
       "0  A spacious 2 bhk multistorey apartment is avai...      No Deposit   \n",
       "1  It has a built-up area of 650 sqft and is avai...      No Deposit   \n",
       "2  This spacious 1 rk independent house is availa...      No Deposit   \n",
       "3  Furnishings include 1 tv, 1 refrigerator, 1 so...      No Deposit   \n",
       "4  Itâs a 5 bhk independent house situated in W...      No Deposit   \n",
       "\n",
       "           Status  \n",
       "0     Unfurnished  \n",
       "1  Semi-Furnished  \n",
       "2     Unfurnished  \n",
       "3       Furnished  \n",
       "4     Unfurnished  "
      ]
     },
     "execution_count": 2,
     "metadata": {},
     "output_type": "execute_result"
    }
   ],
   "source": [
    "dataset = pd.read_csv('Indian_Housing_Pune_data.csv')\n",
    "dataset.info()\n",
    "dataset.head()"
   ]
  },
  {
   "cell_type": "code",
   "execution_count": 3,
   "id": "17c96440",
   "metadata": {},
   "outputs": [
    {
     "data": {
      "text/plain": [
       "house_type             0\n",
       "house_size             0\n",
       "location               0\n",
       "city                   0\n",
       "latitude               0\n",
       "longitude              0\n",
       "price                  0\n",
       "currency               0\n",
       "numBathrooms          17\n",
       "numBalconies        2089\n",
       "isNegotiable        3384\n",
       "priceSqFt           3910\n",
       "verificationDate       0\n",
       "description          468\n",
       "SecurityDeposit        0\n",
       "Status                 0\n",
       "dtype: int64"
      ]
     },
     "execution_count": 3,
     "metadata": {},
     "output_type": "execute_result"
    }
   ],
   "source": [
    "dataset.isnull().sum()"
   ]
  },
  {
   "cell_type": "code",
   "execution_count": 4,
   "id": "cae019ca",
   "metadata": {},
   "outputs": [],
   "source": [
    "dataset.drop(['location', 'city','latitude','longitude','verificationDate','currency','priceSqFt', 'description', 'SecurityDeposit', 'isNegotiable', 'numBalconies','Status'], axis=1, inplace=True)"
   ]
  },
  {
   "cell_type": "code",
   "execution_count": 7,
   "id": "f1a99d67",
   "metadata": {},
   "outputs": [
    {
     "name": "stdout",
     "output_type": "stream",
     "text": [
      "X_train shape: (3128, 683)\n",
      "X_test shape: (782, 683)\n",
      "y_train shape: (3128,)\n",
      "y_test shape: (782,)\n"
     ]
    },
    {
     "name": "stderr",
     "output_type": "stream",
     "text": [
      "C:\\Users\\jigna\\AppData\\Local\\Temp\\ipykernel_15576\\4210621404.py:13: SettingWithCopyWarning: \n",
      "A value is trying to be set on a copy of a slice from a DataFrame.\n",
      "Try using .loc[row_indexer,col_indexer] = value instead\n",
      "\n",
      "See the caveats in the documentation: https://pandas.pydata.org/pandas-docs/stable/user_guide/indexing.html#returning-a-view-versus-a-copy\n",
      "  X['house_type'] = label_encoder.fit_transform(X['house_type'])\n"
     ]
    }
   ],
   "source": [
    "import pandas as pd\n",
    "from sklearn.model_selection import train_test_split\n",
    "from sklearn.preprocessing import LabelEncoder, OneHotEncoder\n",
    "from sklearn.compose import ColumnTransformer\n",
    "\n",
    "# Take the relevant columns\n",
    "X = dataset[['house_type', 'house_size', 'numBathrooms']]\n",
    "y = dataset['price']\n",
    "\n",
    "# Handle categorical data in 'house_type' and 'house_size'\n",
    "# Label Encoding for 'house_type'\n",
    "label_encoder = LabelEncoder()\n",
    "X['house_type'] = label_encoder.fit_transform(X['house_type'])\n",
    "\n",
    "# One Hot Encoding for 'house_size'\n",
    "# We use ColumnTransformer to apply OneHotEncoder to 'house_size' column\n",
    "ct = ColumnTransformer([('house_size', OneHotEncoder(), ['house_size'])], remainder='passthrough')\n",
    "X = ct.fit_transform(X)\n",
    "\n",
    "# Split the dataset into training and testing sets\n",
    "X_train, X_test, y_train, y_test = train_test_split(X, y, test_size=0.2, random_state=0)\n",
    "\n",
    "# Print the shapes of the resulting arrays\n",
    "print(f\"X_train shape: {X_train.shape}\")\n",
    "print(f\"X_test shape: {X_test.shape}\")\n",
    "print(f\"y_train shape: {y_train.shape}\")\n",
    "print(f\"y_test shape: {y_test.shape}\")\n"
   ]
  },
  {
   "cell_type": "code",
   "execution_count": 11,
   "id": "93371828",
   "metadata": {},
   "outputs": [
    {
     "name": "stdout",
     "output_type": "stream",
     "text": [
      "Mean Squared Error: 2.8544005813016677e+29\n",
      "R^2 Score: -1.1084946598258669e+21\n"
     ]
    }
   ],
   "source": [
    "import pandas as pd\n",
    "from sklearn.model_selection import train_test_split\n",
    "from sklearn.preprocessing import LabelEncoder, OneHotEncoder\n",
    "from sklearn.compose import ColumnTransformer\n",
    "from sklearn.impute import SimpleImputer\n",
    "from sklearn.pipeline import Pipeline\n",
    "from sklearn.linear_model import LinearRegression\n",
    "from sklearn.metrics import mean_squared_error, r2_score\n",
    "\n",
    "# Assuming 'dataset' is your DataFrame after dropping the unnecessary columns\n",
    "# dataset = pd.read_csv('path_to_your_dataset.csv')  # Uncomment if you need to load the dataset\n",
    "\n",
    "# Select the relevant columns\n",
    "X = dataset[['house_type', 'house_size', 'numBathrooms']].copy()\n",
    "y = dataset['price']\n",
    "\n",
    "# Handle categorical data in 'house_type' and 'house_size'\n",
    "# Label Encoding for 'house_type'\n",
    "label_encoder = LabelEncoder()\n",
    "X['house_type'] = label_encoder.fit_transform(X['house_type'])\n",
    "\n",
    "# Imputer for missing values\n",
    "imputer = SimpleImputer(strategy='most_frequent')\n",
    "\n",
    "# Apply imputer to numerical columns\n",
    "X['numBathrooms'] = imputer.fit_transform(X[['numBathrooms']])\n",
    "\n",
    "# One Hot Encoding for 'house_size'\n",
    "onehot_encoder = OneHotEncoder()\n",
    "house_size_encoded = onehot_encoder.fit_transform(X[['house_size']])\n",
    "\n",
    "# Combine the encoded 'house_size' with other features\n",
    "X = X.drop('house_size', axis=1)\n",
    "X_encoded = pd.concat([X.reset_index(drop=True), \n",
    "                       pd.DataFrame(house_size_encoded.toarray(), columns=onehot_encoder.get_feature_names_out(['house_size']))], axis=1)\n",
    "\n",
    "# Split the dataset into training and testing sets\n",
    "X_train, X_test, y_train, y_test = train_test_split(X_encoded, y, test_size=0.2, random_state=0)\n",
    "\n",
    "# Initialize the linear regression model\n",
    "model = LinearRegression()\n",
    "\n",
    "# Fit the model on the training data\n",
    "model.fit(X_train, y_train)\n",
    "\n",
    "# Predict on the test data\n",
    "y_pred = model.predict(X_test)\n",
    "\n",
    "# Evaluate the model\n",
    "mse = mean_squared_error(y_test, y_pred)\n",
    "r2 = r2_score(y_test, y_pred)\n",
    "\n",
    "print(f\"Mean Squared Error: {mse}\")\n",
    "print(f\"R^2 Score: {r2}\")\n"
   ]
  },
  {
   "cell_type": "code",
   "execution_count": 22,
   "id": "645a666e",
   "metadata": {},
   "outputs": [
    {
     "name": "stderr",
     "output_type": "stream",
     "text": [
      "C:\\Users\\jigna\\AppData\\Local\\Temp\\ipykernel_15576\\1249376338.py:6: UserWarning: \n",
      "\n",
      "`distplot` is a deprecated function and will be removed in seaborn v0.14.0.\n",
      "\n",
      "Please adapt your code to use either `displot` (a figure-level function with\n",
      "similar flexibility) or `histplot` (an axes-level function for histograms).\n",
      "\n",
      "For a guide to updating your code to use the new functions, please see\n",
      "https://gist.github.com/mwaskom/de44147ed2974457ad6372750bbe5751\n",
      "\n",
      "  sns.distplot(dataset.price)\n"
     ]
    },
    {
     "data": {
      "text/plain": [
       "<Axes: title={'center': 'House Price Distribution Plot'}, xlabel='price', ylabel='Density'>"
      ]
     },
     "execution_count": 22,
     "metadata": {},
     "output_type": "execute_result"
    },
    {
     "data": {
      "image/png": "[encoded data removed]",
      "text/plain": [
       "<Figure size 1500x600 with 1 Axes>"
      ]
     },
     "metadata": {},
     "output_type": "display_data"
    }
   ],
   "source": [
    "import seaborn as sns\n",
    "\n",
    "plt.figure(figsize=(15,6))\n",
    "plt.subplot(1,2,1)\n",
    "plt.title('House Price Distribution Plot')\n",
    "sns.distplot(dataset.price) "
   ]
  },
  {
   "cell_type": "code",
   "execution_count": null,
   "id": "8e5f26bf",
   "metadata": {},
   "outputs": [],
   "source": []
  }
 ],
 "metadata": {
  "kernelspec": {
   "display_name": "Python 3 (ipykernel)",
   "language": "python",
   "name": "python3"
  },
  "language_info": {
   "codemirror_mode": {
    "name": "ipython",
    "version": 3
   },
   "file_extension": ".py",
   "mimetype": "text/x-python",
   "name": "python",
   "nbconvert_exporter": "python",
   "pygments_lexer": "ipython3",
   "version": "3.11.5"
  }
 },
 "nbformat": 4,
 "nbformat_minor": 5
}
